{
 "cells": [
  {
   "cell_type": "markdown",
   "metadata": {},
   "source": [
    "# Non-linear (Polynomial) regression"
   ]
  },
  {
   "cell_type": "code",
   "execution_count": 11,
   "metadata": {},
   "outputs": [
    {
     "data": {
      "image/png": "[encoded data removed]",
      "text/plain": [
       "<matplotlib.figure.Figure at 0xf8ecbb0>"
      ]
     },
     "metadata": {},
     "output_type": "display_data"
    }
   ],
   "source": [
    "%matplotlib inline\n",
    "import matplotlib.pyplot as plt\n",
    "X=[[6],[8],[10],[14],[18]]\n",
    "Y=[7,9,13,13.5,10]\n",
    "plt.figure()\n",
    "plt.plot(X,Y,'ro')\n",
    "plt.axis([0,25,0,25])\n",
    "plt.grid()"
   ]
  },
  {
   "cell_type": "code",
   "execution_count": 12,
   "metadata": {},
   "outputs": [
    {
     "data": {
      "text/plain": [
       "array([[  1.00000000e+00,   6.00000000e+00,   3.60000000e+01,\n",
       "          2.16000000e+02],\n",
       "       [  1.00000000e+00,   8.00000000e+00,   6.40000000e+01,\n",
       "          5.12000000e+02],\n",
       "       [  1.00000000e+00,   1.00000000e+01,   1.00000000e+02,\n",
       "          1.00000000e+03],\n",
       "       [  1.00000000e+00,   1.40000000e+01,   1.96000000e+02,\n",
       "          2.74400000e+03],\n",
       "       [  1.00000000e+00,   1.80000000e+01,   3.24000000e+02,\n",
       "          5.83200000e+03]])"
      ]
     },
     "execution_count": 12,
     "metadata": {},
     "output_type": "execute_result"
    }
   ],
   "source": [
    "import numpy as np\n",
    "from sklearn.preprocessing import PolynomialFeatures\n",
    "from sklearn.linear_model import LinearRegression\n",
    "poly=PolynomialFeatures(degree=3)\n",
    "QuadraticCoeff=poly.fit_transform(X)\n",
    "QuadraticCoeff"
   ]
  },
  {
   "cell_type": "code",
   "execution_count": 13,
   "metadata": {},
   "outputs": [
    {
     "name": "stdout",
     "output_type": "stream",
     "text": [
      "Expected Output [7, 9, 13, 13.5, 10]\n",
      "Predicted Output\n",
      " [  6.73214286   9.85714286  12.19642857  13.76785714   9.94642857]\n"
     ]
    }
   ],
   "source": [
    "Pmodel=LinearRegression()\n",
    "Pmodel.fit(QuadraticCoeff,Y)\n",
    "print(\"Expected Output\",Y)\n",
    "print(\"Predicted Output\\n\",Pmodel.predict(QuadraticCoeff))"
   ]
  },
  {
   "cell_type": "code",
   "execution_count": 14,
   "metadata": {},
   "outputs": [
    {
     "data": {
      "image/png": "[encoded data removed]",
      "text/plain": [
       "<matplotlib.figure.Figure at 0xf569e50>"
      ]
     },
     "metadata": {},
     "output_type": "display_data"
    }
   ],
   "source": [
    "XX=np.linspace(0,25,101).reshape(-1,1) #column array\n",
    "XX_quadratic=poly.fit_transform(XX)\n",
    "plt.axis([0,25,0,25])\n",
    "plt.grid()\n",
    "plt.plot(XX,Pmodel.predict(XX_quadratic),c='r',linestyle='--')\n",
    "plt.scatter(X,Y)\n",
    "plt.show()"
   ]
  },
  {
   "cell_type": "code",
   "execution_count": 15,
   "metadata": {},
   "outputs": [
    {
     "name": "stdout",
     "output_type": "stream",
     "text": [
      "Accuracy of model: 0.949107142857\n",
      "SGD MSE 0.305357142857\n"
     ]
    }
   ],
   "source": [
    "acc=Pmodel.score(QuadraticCoeff,Y)\n",
    "from sklearn.metrics import mean_squared_error\n",
    "mse=mean_squared_error(Y,Pmodel.predict((QuadraticCoeff)))\n",
    "print(\"Accuracy of model:\",acc)\n",
    "print('SGD MSE',mse)"
   ]
  }
 ],
 "metadata": {
  "kernelspec": {
   "display_name": "Python 3",
   "language": "python",
   "name": "python3"
  },
  "language_info": {
   "codemirror_mode": {
    "name": "ipython",
    "version": 3
   },
   "file_extension": ".py",
   "mimetype": "text/x-python",
   "name": "python",
   "nbconvert_exporter": "python",
   "pygments_lexer": "ipython3",
   "version": "3.6.4"
  }
 },
 "nbformat": 4,
 "nbformat_minor": 2
}
