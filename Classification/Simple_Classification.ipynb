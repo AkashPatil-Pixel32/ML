{
 "cells": [
  {
   "cell_type": "code",
   "execution_count": 1,
   "metadata": {},
   "outputs": [],
   "source": [
    "import numpy as np\n",
    "import pandas as pd\n",
    "import matplotlib.pyplot as plt"
   ]
  },
  {
   "cell_type": "code",
   "execution_count": 2,
   "metadata": {},
   "outputs": [
    {
     "data": {
      "text/html": [
       "<div>\n",
       "<style scoped>\n",
       "    .dataframe tbody tr th:only-of-type {\n",
       "        vertical-align: middle;\n",
       "    }\n",
       "\n",
       "    .dataframe tbody tr th {\n",
       "        vertical-align: top;\n",
       "    }\n",
       "\n",
       "    .dataframe thead th {\n",
       "        text-align: right;\n",
       "    }\n",
       "</style>\n",
       "<table border=\"1\" class=\"dataframe\">\n",
       "  <thead>\n",
       "    <tr style=\"text-align: right;\">\n",
       "      <th></th>\n",
       "      <th>grumpy_proportion</th>\n",
       "      <th>prediction</th>\n",
       "      <th>sleep_proportion</th>\n",
       "    </tr>\n",
       "  </thead>\n",
       "  <tbody>\n",
       "    <tr>\n",
       "      <th>0</th>\n",
       "      <td>0.1</td>\n",
       "      <td>kitten</td>\n",
       "      <td>0.2</td>\n",
       "    </tr>\n",
       "    <tr>\n",
       "      <th>1</th>\n",
       "      <td>0.6</td>\n",
       "      <td>kitten</td>\n",
       "      <td>0.4</td>\n",
       "    </tr>\n",
       "    <tr>\n",
       "      <th>2</th>\n",
       "      <td>0.2</td>\n",
       "      <td>kitten</td>\n",
       "      <td>0.5</td>\n",
       "    </tr>\n",
       "    <tr>\n",
       "      <th>3</th>\n",
       "      <td>0.9</td>\n",
       "      <td>adult</td>\n",
       "      <td>0.7</td>\n",
       "    </tr>\n",
       "  </tbody>\n",
       "</table>\n",
       "</div>"
      ],
      "text/plain": [
       "   grumpy_proportion prediction  sleep_proportion\n",
       "0                0.1     kitten               0.2\n",
       "1                0.6     kitten               0.4\n",
       "2                0.2     kitten               0.5\n",
       "3                0.9      adult               0.7"
      ]
     },
     "execution_count": 2,
     "metadata": {},
     "output_type": "execute_result"
    }
   ],
   "source": [
    "df=pd.DataFrame({'sleep_proportion':[0.2,0.4,0.5,0.7],'grumpy_proportion':[0.1,0.6,0.2,0.9],'prediction':['kitten','kitten','kitten','adult']})\n",
    "df"
   ]
  },
  {
   "cell_type": "code",
   "execution_count": 3,
   "metadata": {},
   "outputs": [
    {
     "data": {
      "text/plain": [
       "<matplotlib.legend.Legend at 0x7bef2b0>"
      ]
     },
     "execution_count": 3,
     "metadata": {},
     "output_type": "execute_result"
    },
    {
     "data": {
      "image/png": "[encoded data removed]",
      "text/plain": [
       "<matplotlib.figure.Figure at 0x7b77a90>"
      ]
     },
     "metadata": {},
     "output_type": "display_data"
    }
   ],
   "source": [
    "kittens=df[df['prediction']=='kitten']\n",
    "adults=df[df['prediction']=='adult']\n",
    "plt.scatter(kittens['sleep_proportion'],kittens['grumpy_proportion'],color='b',label='kittens')\n",
    "plt.scatter(adults['sleep_proportion'],adults['grumpy_proportion'],color='r',label='adults')\n",
    "plt.grid()\n",
    "plt.legend()"
   ]
  },
  {
   "cell_type": "code",
   "execution_count": 4,
   "metadata": {},
   "outputs": [
    {
     "data": {
      "text/html": [
       "<div>\n",
       "<style scoped>\n",
       "    .dataframe tbody tr th:only-of-type {\n",
       "        vertical-align: middle;\n",
       "    }\n",
       "\n",
       "    .dataframe tbody tr th {\n",
       "        vertical-align: top;\n",
       "    }\n",
       "\n",
       "    .dataframe thead th {\n",
       "        text-align: right;\n",
       "    }\n",
       "</style>\n",
       "<table border=\"1\" class=\"dataframe\">\n",
       "  <thead>\n",
       "    <tr style=\"text-align: right;\">\n",
       "      <th></th>\n",
       "      <th>grumpy_proportion</th>\n",
       "      <th>prediction</th>\n",
       "      <th>sleep_proportion</th>\n",
       "      <th>bprediction</th>\n",
       "    </tr>\n",
       "  </thead>\n",
       "  <tbody>\n",
       "    <tr>\n",
       "      <th>0</th>\n",
       "      <td>0.1</td>\n",
       "      <td>kitten</td>\n",
       "      <td>0.2</td>\n",
       "      <td>True</td>\n",
       "    </tr>\n",
       "    <tr>\n",
       "      <th>1</th>\n",
       "      <td>0.6</td>\n",
       "      <td>kitten</td>\n",
       "      <td>0.4</td>\n",
       "      <td>True</td>\n",
       "    </tr>\n",
       "    <tr>\n",
       "      <th>2</th>\n",
       "      <td>0.2</td>\n",
       "      <td>kitten</td>\n",
       "      <td>0.5</td>\n",
       "      <td>True</td>\n",
       "    </tr>\n",
       "    <tr>\n",
       "      <th>3</th>\n",
       "      <td>0.9</td>\n",
       "      <td>adult</td>\n",
       "      <td>0.7</td>\n",
       "      <td>False</td>\n",
       "    </tr>\n",
       "  </tbody>\n",
       "</table>\n",
       "</div>"
      ],
      "text/plain": [
       "   grumpy_proportion prediction  sleep_proportion  bprediction\n",
       "0                0.1     kitten               0.2         True\n",
       "1                0.6     kitten               0.4         True\n",
       "2                0.2     kitten               0.5         True\n",
       "3                0.9      adult               0.7        False"
      ]
     },
     "execution_count": 4,
     "metadata": {},
     "output_type": "execute_result"
    }
   ],
   "source": [
    "df['bprediction']=df['prediction'].apply(lambda x:x=='kitten')\n",
    "from sklearn.linear_model import Perceptron\n",
    "classifier=Perceptron(max_iter=1000)\n",
    "model=classifier.fit(df[['sleep_proportion','grumpy_proportion']],df['bprediction'])\n",
    "df"
   ]
  },
  {
   "cell_type": "code",
   "execution_count": 5,
   "metadata": {},
   "outputs": [
    {
     "data": {
      "text/plain": [
       "array([ True, False], dtype=bool)"
      ]
     },
     "execution_count": 5,
     "metadata": {},
     "output_type": "execute_result"
    }
   ],
   "source": [
    "model.predict([[0.4,0.4],[0.9,0.9]])"
   ]
  },
  {
   "cell_type": "code",
   "execution_count": 6,
   "metadata": {},
   "outputs": [
    {
     "data": {
      "image/png": "[encoded data removed]",
      "text/plain": [
       "<matplotlib.figure.Figure at 0xd27eed0>"
      ]
     },
     "metadata": {},
     "output_type": "display_data"
    }
   ],
   "source": [
    "x_min,x_max=0,1\n",
    "y_min,y_max=0,1\n",
    "\n",
    "xx,yy=np.meshgrid(np.arange(x_min,x_max,.01),np.arange(x_min,x_max,.01))\n",
    "#print(xx),#print(yy);\n",
    "\n",
    "xx_lin=xx.ravel();#print(xx_lin[0:10]);\n",
    "yy_lin=yy.ravel();#print(yy_lin[0:10]);\n",
    "\n",
    "pred_input=np.c_[xx_lin,yy_lin];#print(pred_input[0:20])\n",
    "Z=model.predict(pred_input);#print(Z);\n",
    "Z=Z.reshape(xx.shape);#print(Z);\n",
    "plt.contourf(xx,yy,Z,cmap=plt.cm.Pastel1)\n",
    "plt.scatter(kittens['sleep_proportion'],kittens['grumpy_proportion'],color='b',label='kittens')\n",
    "plt.scatter(adults['sleep_proportion'],adults['grumpy_proportion'],color='r',label='adults')\n",
    "plt.grid([0,1,0,1])\n",
    "plt.grid()"
   ]
  },
  {
   "cell_type": "code",
   "execution_count": 7,
   "metadata": {},
   "outputs": [
    {
     "name": "stdout",
     "output_type": "stream",
     "text": [
      "Weight_0: -0.3\n",
      "Weight_1: -0.9\n",
      "Threshold: [ 1.]\n",
      "0   -0.15\n",
      "1   -0.66\n",
      "2   -0.33\n",
      "3   -1.02\n",
      "dtype: float64\n"
     ]
    }
   ],
   "source": [
    "print(\"Weight_0: \"+str(model.coef_[0,0]))\n",
    "print(\"Weight_1: \"+str(model.coef_[0,1]))\n",
    "print(\"Threshold: \"+str(model.intercept_))\n",
    "print((model.coef_[0,0]*df['sleep_proportion'])+(model.coef_[0,1]*df['grumpy_proportion']))"
   ]
  },
  {
   "cell_type": "code",
   "execution_count": 8,
   "metadata": {},
   "outputs": [],
   "source": [
    "from sklearn.svm import SVC\n",
    "SVCClassifier=SVC(kernel='linear',C=10,max_iter=100)\n",
    "SVCModel=SVCClassifier.fit(df[['sleep_proportion','grumpy_proportion']],df['bprediction'])"
   ]
  },
  {
   "cell_type": "code",
   "execution_count": 9,
   "metadata": {},
   "outputs": [
    {
     "name": "stdout",
     "output_type": "stream",
     "text": [
      "[ True False]\n"
     ]
    },
    {
     "data": {
      "image/png": "[encoded data removed]",
      "text/plain": [
       "<matplotlib.figure.Figure at 0xd2d16f0>"
      ]
     },
     "metadata": {},
     "output_type": "display_data"
    }
   ],
   "source": [
    "SVC_Z=SVCModel.predict(pred_input)\n",
    "SVC_Z=SVC_Z.reshape(xx.shape)\n",
    "print(SVCModel.predict([[0,0],[1,1]]))\n",
    "plt.contourf(xx,yy,SVC_Z,cmap=plt.cm.Pastel1)\n",
    "plt.scatter(kittens['sleep_proportion'],kittens['grumpy_proportion'],color='b',label='kittens')\n",
    "plt.scatter(adults['sleep_proportion'],adults['grumpy_proportion'],color='r',label='adults')\n",
    "plt.grid([0,1,0,1])\n",
    "plt.grid()"
   ]
  }
 ],
 "metadata": {
  "kernelspec": {
   "display_name": "Python 3",
   "language": "python",
   "name": "python3"
  },
  "language_info": {
   "codemirror_mode": {
    "name": "ipython",
    "version": 3
   },
   "file_extension": ".py",
   "mimetype": "text/x-python",
   "name": "python",
   "nbconvert_exporter": "python",
   "pygments_lexer": "ipython3",
   "version": "3.6.4"
  }
 },
 "nbformat": 4,
 "nbformat_minor": 2
}
