{
 "cells": [
  {
   "cell_type": "markdown",
   "metadata": {},
   "source": [
    "Load the dataset. Select the sheet name in .csv/.xlsx file\n",
    "\n",
    "1. Normalize the data appropriately (scikit.preprocessing “scale”).\n",
    "2. Divide the data into training and test sets.\n",
    "3. For a variety of architectures\n",
    "   - Train an MLPClassifier on the training data.\n",
    "   - Measure the performance on the test set using two different measures: AUROC and misclassification rate.\n",
    "4. Identify the best model by AUROC/misclassification rate."
   ]
  },
  {
   "cell_type": "code",
   "execution_count": null,
   "metadata": {
    "colab": {
     "base_uri": "https://localhost:8080/",
     "height": 1000
    },
    "colab_type": "code",
    "executionInfo": {
     "elapsed": 12160,
     "status": "ok",
     "timestamp": 1588539644347,
     "user": {
      "displayName": "Akash Patil",
      "photoUrl": "https://lh3.googleusercontent.com/a-/AOh14GiP4tVp0asXyDzEjfv_PRglCJY_3phOvxU-q6ZbDw=s64",
      "userId": "00682895625702521368"
     },
     "user_tz": 240
    },
    "id": "-Gy5W93Ra0ml",
    "outputId": "dd9a92f8-2c32-409f-b48f-8d38e1a436e0"
   },
   "outputs": [],
   "source": [
    "import pandas as pd\n",
    "import numpy as np\n",
    "import math\n",
    "from sklearn.preprocessing import scale\n",
    "import matplotlib.pyplot as plt\n",
    "from sklearn.model_selection import train_test_split\n",
    "from sklearn.neural_network import MLPClassifier\n",
    "from sklearn.metrics import roc_auc_score\n",
    "import csv\n",
    "\n",
    "Main_data = pd.read_excel('data.xlsx', sheet_name='sheet_name') \n",
    "train_data = Main_data.drop([\"ID\", \"TG\"], axis=1) \n",
    "test_data = Main_data[\"TG\"]\n",
    "\n",
    "# Normalize the data with Mean Sigma Normalization.\n",
    "train_data_Norm = scale(train_data, axis=0, with_mean=True, with_std=True, copy=False)\n",
    "# Train Test Split with factor 0.2, 80% data to train and 20% data to test\n",
    "X_train, X_test, y_train, y_test = train_test_split(train_data, test_data, test_size=0.2, random_state=42)\n",
    "\n",
    "Act_function = ['relu','identity','tanh']\n",
    "MLP_param = []\n",
    "# Test activation function with number of nodes in 1 hidden layer configuration.\n",
    "for i in Act_function:\n",
    "    for j in range(1,21):\n",
    "        mlp1 = MLPClassifier(hidden_layer_sizes=(j), activation=i, max_iter=10, solver='adam', alpha=0.0001, random_state=1, batch_size= 256)  \n",
    "        mlp1.fit(X_train, y_train)\n",
    "        mlp1_Miscla_rate = 1 - mlp1.score(X_test, y_test)\n",
    "        AUROC1 = roc_auc_score(y_test, mlp1.predict(X_test))\n",
    "        mlp1_para = [round(mlp1_Miscla_rate,3), round(AUROC1,3), j, i]\n",
    "        MLP_param.append(mlp1_para)\n",
    "\n",
    "# Store model performance (Misclassification rate and AUROC), hidden layer configuration, and activation function in 'MLP_param' list.\n",
    "print(np.array(MLP_param))\n",
    "\n",
    "# Test activation function with number of nodes in first and second hidden layer.\n",
    "for i in Act_function:\n",
    "    for j in range(1,21):\n",
    "        for k in range(1,21):\n",
    "            mlp2 = MLPClassifier(hidden_layer_sizes=(j,k), activation=i, max_iter=10, solver='adam', alpha=0.0001, random_state=1, batch_size= 256)  \n",
    "            mlp2.fit(X_train, y_train)\n",
    "            mlp2_Miscla_rate = 1 - mlp2.score(X_test, y_test)\n",
    "            AUROC2 = roc_auc_score(y_test, mlp1.predict(X_test))\n",
    "            mlp2_para = [round(mlp2_Miscla_rate,3), round(AUROC2,3), [j, k], i]\n",
    "            MLP_param.append(mlp2_para)\n",
    "\n",
    "# Store model performance (Misclassification rate and AUROC), hidden layer configuration, and activation function in 'MLP_param' list.\n",
    "print(np.array(MLP_param))\n",
    "\n",
    "# Test activation function with number of nodes in first, second, and third hidden layer.\n",
    "for i in Act_function:\n",
    "    for j in range(1,21):\n",
    "        for k in range(1,21):\n",
    "            for l in range(1,21):\n",
    "                mlp3 = MLPClassifier(hidden_layer_sizes=(j,k,l), activation=i, max_iter=10, solver='adam', alpha=0.0001, random_state=1, batch_size= 256)  \n",
    "                mlp3.fit(X_train, y_train)\n",
    "                mlp3_Miscla_rate = 1 - mlp3.score(X_test, y_test)\n",
    "                AUROC3 = roc_auc_score(y_test, mlp3.predict(X_test))\n",
    "                mlp3_para = [round(mlp3_Miscla_rate,3), round(AUROC3,3),[j,k,l],i]\n",
    "                MLP_param.append(mlp3_para)\n",
    "\n",
    "# Store model performance (Misclassification rate and AUROC), hidden layer configuration, and activation function in 'MLP_param' list.                \n",
    "print(np.array(MLP_param))\n",
    "\n",
    "# convert list of data to numpy array for operation.\n",
    "acc_param = np.array(MLP_param)\n",
    "\n",
    "print('10 best model architectures by Misclassification Rate:\\n')\n",
    "# Sort numpy array by using first feature (error rate) in Ascending Order and take first 10 rows.\n",
    "top_mis_rate = acc_param[acc_param[:,0].argsort()][:10,:]\n",
    "print(['Misclassification rate', 'Hidden layers size', 'Activation'])\n",
    "top_10_mis_rate = np.concatenate((top_mis_rate[:,0].reshape(-1,1),top_mis_rate[:,2:]),axis=1)\n",
    "print(top_10_mis_rate)\n",
    "\n",
    "print('\\n10 best model architectures by AUROC (Area Under ROC)\\n') \n",
    "# Sort numpy array by using second feature (AUROC) in Descending Order and take first 10 rows.\n",
    "top_AUROC = acc_param[acc_param[:,1].argsort()][::-1][:10,:]\n",
    "print(['AUROC', 'Hidden layers size', 'Activation'])\n",
    "top_10_AUROC = top_AUROC[:,1:]\n",
    "print(top_10_AUROC)\n",
    "\n",
    "print('\\nBest Model with lowest Misclassification Rate: {},\\nHidden layer configuration: {},\\nand Activation function: {}'\\\n",
    "      .format(top_10_mis_rate[0,0], top_10_mis_rate[0,1], top_10_mis_rate[0,2]))\n",
    "print('\\nBest Model With highest AUROC: {},\\nHidden layer configuration: {},\\nand Activation function: {}'\\\n",
    "      .format(top_10_AUROC[0,0], top_10_AUROC[0,1], top_10_AUROC[0,2]))"
   ]
  },
  {
   "cell_type": "code",
   "execution_count": null,
   "metadata": {
    "colab": {
     "base_uri": "https://localhost:8080/",
     "height": 633
    },
    "colab_type": "code",
    "executionInfo": {
     "elapsed": 589,
     "status": "ok",
     "timestamp": 1588538946945,
     "user": {
      "displayName": "Akash Patil",
      "photoUrl": "https://lh3.googleusercontent.com/a-/AOh14GiP4tVp0asXyDzEjfv_PRglCJY_3phOvxU-q6ZbDw=s64",
      "userId": "00682895625702521368"
     },
     "user_tz": 240
    },
    "id": "MgDANspW8DIX",
    "outputId": "a87d0195-b5b3-4801-b4fe-98cb8e1feac1"
   },
   "outputs": [],
   "source": [
    "acc_param = np.array(MLP_param)\n",
    "\n",
    "print('10 best model architectures by Misclassification Rate:\\n')\n",
    "# Sort numpy array by using first feature (error rate) in Ascending Order and take first 10 rows.\n",
    "top_mis_rate = acc_param[acc_param[:,0].argsort()][:10,:]\n",
    "print(['Misclassification rate', 'Hidden layers size', 'Activation'])\n",
    "top_10_mis_rate = np.concatenate((top_mis_rate[:,0].reshape(-1,1),top_mis_rate[:,2:]),axis=1)\n",
    "print(top_10_mis_rate)\n",
    "\n",
    "print('\\n10 best model architectures by AUROC (Area Under ROC)\\n') \n",
    "# Sort numpy array by using second feature (AUROC) in Descending Order and take first 10 rows.\n",
    "top_AUROC = acc_param[acc_param[:,1].argsort()][::-1][:10,:]\n",
    "print(['AUROC', 'Hidden layers size', 'Activation'])\n",
    "top_10_AUROC = top_AUROC[:,1:]\n",
    "print(top_10_AUROC)\n",
    "\n",
    "print('\\nBest Model with lowest Misclassification Rate: {},\\nHidden layer configuration: {},\\nand Activation function: {}'\\\n",
    "      .format(top_10_mis_rate[0,0], top_10_mis_rate[0,1], top_10_mis_rate[0,2]))\n",
    "print('\\nBest Model With highest AUROC: {},\\nHidden layer configuration: {},\\nand Activation function: {}'\\\n",
    "      .format(top_10_AUROC[0,0], top_10_AUROC[0,1], top_10_AUROC[0,2]))"
   ]
  }
 ],
 "metadata": {
  "colab": {
   "authorship_tag": "ABX9TyOBstX91GtXBYMcrsMB46fA",
   "collapsed_sections": [],
   "mount_file_id": "14pb6aSl58fwo1n9roXS9T25jUI4q5T1C",
   "name": "AML_HW5.ipynb",
   "provenance": []
  },
  "kernelspec": {
   "display_name": "Python 3",
   "language": "python",
   "name": "python3"
  },
  "language_info": {
   "codemirror_mode": {
    "name": "ipython",
    "version": 3
   },
   "file_extension": ".py",
   "mimetype": "text/x-python",
   "name": "python",
   "nbconvert_exporter": "python",
   "pygments_lexer": "ipython3",
   "version": "3.7.4"
  }
 },
 "nbformat": 4,
 "nbformat_minor": 1
}
