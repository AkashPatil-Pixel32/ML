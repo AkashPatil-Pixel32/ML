{
 "cells": [
  {
   "cell_type": "code",
   "execution_count": 1,
   "metadata": {},
   "outputs": [],
   "source": [
    "####  Record1:Bread,Milk,Beer\n",
    "####  Record2:Bread,Diapers,Eggs\n",
    "####  Record3:Milk,Diapers,Beer,Cola\n",
    "####  Record4:Bread,Milk,Diapers,Beer\n",
    "####  Record5:Bread,Milk,Cola"
   ]
  },
  {
   "cell_type": "code",
   "execution_count": 2,
   "metadata": {},
   "outputs": [],
   "source": [
    "### Support=Occurance/Total  support must be >60% so enough data must be available for that item\n",
    "### Confidence(A-->B)=(A intersection B)/(Occurance A) Confidence is for pairs \n",
    "### Lift range(0 to infinity) \n",
    "### Lift(x-->y)=supp(X intersection Y)/supp(X)*supp(Y)==(No. of X with Y)/(No. of X not with Y)"
   ]
  },
  {
   "cell_type": "code",
   "execution_count": 3,
   "metadata": {},
   "outputs": [],
   "source": [
    "### 1.Apriori algorithm\n",
    "### 2.Eclat algorithm\n",
    "### 3.FP-growth algorithm"
   ]
  },
  {
   "cell_type": "code",
   "execution_count": 4,
   "metadata": {},
   "outputs": [],
   "source": [
    "import pandas as pd\n",
    "from mlxtend.preprocessing import TransactionEncoder\n",
    "from mlxtend.frequent_patterns import apriori\n",
    "from mlxtend.frequent_patterns import association_rules\n",
    "#########################################################\n",
    "dataset=[[\"Bread\", \"Milk\", \"Beer\"],\n",
    " [\"Bread\", \"Diapers\", \"Eggs\"],\n",
    " [\"Milk\", \"Diapers\", \"Beer\", \"Cola\"],\n",
    " [\"Bread\", \"Milk\", \"Diapers\", \"Beer\"],\n",
    " [\"Bread\", \"Milk\", \"Cola\"]]\n",
    "#########################################################\n",
    "te=TransactionEncoder()\n",
    "te=te.fit(dataset)           # Reads unique values \n",
    "te_ary=te.transform(dataset) # Converts array into a matrx\n",
    "df=pd.DataFrame(te_ary, columns=te.columns_)\n",
    "\n",
    "#########################################################\n",
    "frequent_items=apriori(df,min_support=0.6,use_colnames=True)\n",
    "frequent_items\n",
    "rules = association_rules(frequent_items,\n",
    "                         metric= 'confidence',\n",
    "                        min_threshold=0.5)"
   ]
  },
  {
   "cell_type": "code",
   "execution_count": null,
   "metadata": {},
   "outputs": [
    {
     "name": "stdout",
     "output_type": "stream",
     "text": [
      "Items available are- ['Diapers', 'Milk', 'Cola', 'Bread', 'Beer', 'Eggs']\n",
      "Your cart contains []\n",
      "What do you want to buy? \n",
      "Item:exit\n",
      "You bought  []\n",
      "--------------------------------\n",
      "Items available are- ['Diapers', 'Milk', 'Cola', 'Bread', 'Beer', 'Eggs']\n",
      "Your cart contains []\n"
     ]
    }
   ],
   "source": [
    "def item():\n",
    "    print(\"Items available are-\", available)\n",
    "    print(\"Your cart contains\",cart)\n",
    "    buy=input(\"What do you want to buy? \\nItem:\")\n",
    "    buy=buy.title()\n",
    "    shop(buy)\n",
    "    print(\"--------------------------------\")\n",
    "def shop(buy):\n",
    "    if buy in available:\n",
    "        cart.append(buy)\n",
    "        available.remove(buy)\n",
    "        print(buy+\" is added to the list\")\n",
    "        cartitem=[buy]\n",
    "        rec=[list(x) for x in rules[rules['antecedants'].apply(lambda x: set(cartitem).issubset(set(x)))]['consequents']]\n",
    "        for values in rec:\n",
    "            for value in values:\n",
    "                if value in cart:\n",
    "                    rec.remove(values)\n",
    "        print(rec)\n",
    "        print(\"Recommended:\",rec)\n",
    "    elif buy in cart:\n",
    "        print(\"Item already in cart!\")\n",
    "        item()\n",
    "    elif buy =='Exit':\n",
    "        print(\"You bought \",cart)\n",
    "       # import sys \n",
    "       # exit()\n",
    "        want_to_buy=False\n",
    "    else:\n",
    "        print(\"Item not in list\")\n",
    "        item()\n",
    "\n",
    "available= ['Diapers', 'Milk', 'Cola', 'Bread', 'Beer', 'Eggs']\n",
    "cart=[]\n",
    "want_to_buy=True\n",
    "while(want_to_buy==True):\n",
    "    item()    \n",
    "    if available==[]:\n",
    "        print(\"You have bought the whole shop!\")\n",
    "        want_to_buy=False"
   ]
  }
 ],
 "metadata": {
  "kernelspec": {
   "display_name": "Python 3",
   "language": "python",
   "name": "python3"
  },
  "language_info": {
   "codemirror_mode": {
    "name": "ipython",
    "version": 3
   },
   "file_extension": ".py",
   "mimetype": "text/x-python",
   "name": "python",
   "nbconvert_exporter": "python",
   "pygments_lexer": "ipython3",
   "version": "3.6.4"
  }
 },
 "nbformat": 4,
 "nbformat_minor": 2
}
