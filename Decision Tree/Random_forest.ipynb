{
 "cells": [
  {
   "cell_type": "markdown",
   "metadata": {
    "colab": {},
    "colab_type": "code",
    "id": "w37WQs9WywYU"
   },
   "source": [
    "Apply a Random Forest classifier on given dataset\n",
    "\n",
    "- The class is sklearn.ensemble.RandomForestClassifier. "
   ]
  },
  {
   "cell_type": "code",
   "execution_count": 1,
   "metadata": {
    "colab": {
     "base_uri": "https://localhost:8080/",
     "height": 469
    },
    "colab_type": "code",
    "executionInfo": {
     "elapsed": 35112,
     "status": "ok",
     "timestamp": 1586899002338,
     "user": {
      "displayName": "Akash Patil",
      "photoUrl": "https://lh3.googleusercontent.com/a-/AOh14GiP4tVp0asXyDzEjfv_PRglCJY_3phOvxU-q6ZbDw=s64",
      "userId": "00682895625702521368"
     },
     "user_tz": 240
    },
    "id": "whYc3SazPJqp",
    "outputId": "0bd0634a-ff02-4eae-9731-3c965c2a31e3"
   },
   "outputs": [
    {
     "name": "stdout",
     "output_type": "stream",
     "text": [
      "For wifi.xlsx dataset\n",
      "Maximum Accuarcy: 98.2\n",
      "For Model configuration: 90 7 entropy\n",
      "Confusion matrix, without normalization\n",
      "[[109   0   1   0]\n",
      " [  0 133   5   0]\n",
      " [  2   0 119   0]\n",
      " [  1   0   0 130]]\n"
     ]
    },
    {
     "data": {
      "image/png": "[encoded data removed]",
      "text/plain": [
       "<Figure size 432x288 with 2 Axes>"
      ]
     },
     "metadata": {
      "needs_background": "light",
      "tags": []
     },
     "output_type": "display_data"
    },
    {
     "name": "stdout",
     "output_type": "stream",
     "text": [
      "Number of mislabeled points out of a total of 500 are: 9\n"
     ]
    }
   ],
   "source": [
    "from sklearn.metrics import confusion_matrix\n",
    "from sklearn.metrics import plot_confusion_matrix\n",
    "from sklearn.ensemble import RandomForestClassifier\n",
    "from sklearn.preprocessing import scale\n",
    "import matplotlib.pyplot as plt\n",
    "import pandas as pd \n",
    "import numpy as np \n",
    "import math\n",
    "\n",
    "train_data = pd.read_excel('data.xlsx', sheet_name='train') \n",
    "test_data  = pd.read_excel('data.xlsx', sheet_name='test') \n",
    "\n",
    "train_data_X = train_data.drop([\"labels\"], axis=1) \n",
    "train_data_Y = train_data[\"labels\"]\n",
    "test_data_X = test_data.drop([\"labels\"], axis=1) \n",
    "test_data_Y = test_data[\"labels\"]\n",
    "\n",
    "train_X = train_data_X; train_Y = train_data_Y\n",
    "test_X = test_data_X; test_Y = test_data_Y\n",
    "\n",
    "print(\"For {}.xlsx dataset\".format(dataset))\n",
    "# normmalze the data, Mean Sigma Normalization\n",
    "train_X = scale(train_X, axis=0, with_mean=True, with_std=True, copy=False)\n",
    "test_X = scale(test_X, axis=0, with_mean=True, with_std=True, copy=False)\n",
    "\n",
    "# Class names for confusion matrix representation\n",
    "class_names = np.sort(train_Y.unique())\n",
    "\n",
    "crit = ['entropy', 'gini']\n",
    "no_trees = [90,95,100,105,110]\n",
    "Depth = [i for i in range(4,15)]\n",
    "Depth.append(None)\n",
    "# Tree Depth: [4, 5, 6, 7, 8, 9, 10, 11, 12, 13, 14, 'None']\n",
    "Acc_all = []\n",
    "Acc_para = []\n",
    "for k in no_trees:\n",
    "    for depth in Depth:\n",
    "        for rf_crit in crit:\n",
    "            RF = RandomForestClassifier(n_estimators=k, max_depth=depth, criterion=rf_crit, random_state=0)\n",
    "            RF.fit(train_X, train_Y)\n",
    "            pred = RF.predict(test_X)\n",
    "            Acc = round(np.mean(pred == test_Y)*100,3)\n",
    "            config = [k,depth,rf_crit]\n",
    "            Acc_all.append(Acc)\n",
    "            Acc_para.append(config)\n",
    "            \n",
    "Max_acc = max(Acc_all)\n",
    "Index = Acc_all.index(max(Acc_all))\n",
    "k1,depth1,rf_crit1 = Acc_para[Index]\n",
    "print(\"Maximum Accuarcy:\",Max_acc)\n",
    "print(\"For Model configuration:\",k1,depth1,rf_crit1)   \n",
    "\n",
    "RF_best = RandomForestClassifier(n_estimators=k1, criterion=str(rf_crit1), max_depth=depth1, random_state=0)\n",
    "RF_best.fit(train_X, train_Y)\n",
    "pred_best = RF_best.predict(test_X)\n",
    "Acc_best = round(np.mean(pred_best == test_Y)*100,3)\n",
    "\n",
    "disp = plot_confusion_matrix(RF_best, test_X, test_Y,\n",
    "                             display_labels=class_names, values_format= 'd',\n",
    "                             cmap=plt.cm.Reds,normalize=None)\n",
    "disp.ax_.set_title(\"\\nConfusion matrix, without normalization\")\n",
    "print(\"Confusion matrix, without normalization\")\n",
    "print(disp.confusion_matrix); \n",
    "conf = disp.confusion_matrix\n",
    "plt.show()  \n",
    "print('Number of mislabeled points out of a total of {} are: {}'.format(np.sum(conf),np.sum(conf)-np.sum(np.diagonal(conf))))"
   ]
  }
 ],
 "metadata": {
  "accelerator": "GPU",
  "colab": {
   "authorship_tag": "ABX9TyPiXhYwg37u6DYtN6+LVTqe",
   "collapsed_sections": [],
   "mount_file_id": "1CEEM7PX6_sjtwHnssU4WcFuw_jDkL42Q",
   "name": "HW4_part2.ipynb",
   "provenance": []
  },
  "kernelspec": {
   "display_name": "Python 3",
   "language": "python",
   "name": "python3"
  },
  "language_info": {
   "codemirror_mode": {
    "name": "ipython",
    "version": 3
   },
   "file_extension": ".py",
   "mimetype": "text/x-python",
   "name": "python",
   "nbconvert_exporter": "python",
   "pygments_lexer": "ipython3",
   "version": "3.7.4"
  }
 },
 "nbformat": 4,
 "nbformat_minor": 1
}
